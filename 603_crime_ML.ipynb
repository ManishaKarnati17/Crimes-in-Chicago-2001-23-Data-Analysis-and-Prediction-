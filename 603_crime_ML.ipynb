{
 "cells": [
  {
   "cell_type": "code",
   "execution_count": 1,
   "metadata": {
    "colab": {
     "base_uri": "https://localhost:8080/"
    },
    "id": "BkaLpOcVS8aQ",
    "outputId": "c5fd523d-cd7c-401d-d6d0-2afce266e43c"
   },
   "outputs": [
    {
     "name": "stdout",
     "output_type": "stream",
     "text": [
      "Collecting pyspark\n",
      "  Downloading pyspark-3.5.0.tar.gz (316.9 MB)\n",
      "\u001b[2K     \u001b[90m━━━━━━━━━━━━━━━━━━━━━━━━━━━━━━━━━━━━━━━━\u001b[0m \u001b[32m316.9/316.9 MB\u001b[0m \u001b[31m2.3 MB/s\u001b[0m eta \u001b[36m0:00:00\u001b[0m\n",
      "\u001b[?25h  Preparing metadata (setup.py) ... \u001b[?25l\u001b[?25hdone\n",
      "Requirement already satisfied: py4j==0.10.9.7 in /usr/local/lib/python3.10/dist-packages (from pyspark) (0.10.9.7)\n",
      "Building wheels for collected packages: pyspark\n",
      "  Building wheel for pyspark (setup.py) ... \u001b[?25l\u001b[?25hdone\n",
      "  Created wheel for pyspark: filename=pyspark-3.5.0-py2.py3-none-any.whl size=317425344 sha256=e6caf9b2b62e3f90bb350b817b8f64ee1e83bed5549b6056b3b8ea305c1ddb22\n",
      "  Stored in directory: /root/.cache/pip/wheels/41/4e/10/c2cf2467f71c678cfc8a6b9ac9241e5e44a01940da8fbb17fc\n",
      "Successfully built pyspark\n",
      "Installing collected packages: pyspark\n",
      "Successfully installed pyspark-3.5.0\n"
     ]
    }
   ],
   "source": [
    "!pip install pyspark"
   ]
  },
  {
   "cell_type": "code",
   "execution_count": 2,
   "metadata": {
    "id": "wG-qU0fCoQ70"
   },
   "outputs": [],
   "source": [
    "from pyspark.sql import SparkSession\n",
    "from pyspark.sql.types import StructType, StructField, StringType, DoubleType, IntegerType, BooleanType\n",
    "\n",
    "spark = SparkSession.builder.appName(\"Crime data ML\").getOrCreate()"
   ]
  },
  {
   "cell_type": "code",
   "execution_count": 4,
   "metadata": {
    "id": "bfebkRUKof80"
   },
   "outputs": [],
   "source": [
    "df = spark.read.csv(\"Crimes_-_2001_to_Present.csv\", header=True, inferSchema=True)\n"
   ]
  },
  {
   "cell_type": "code",
   "execution_count": 5,
   "metadata": {
    "colab": {
     "base_uri": "https://localhost:8080/"
    },
    "id": "HexNjHCKojar",
    "outputId": "42d33661-ad36-46ba-debf-77d70573c7f9"
   },
   "outputs": [
    {
     "name": "stdout",
     "output_type": "stream",
     "text": [
      "+--------+-----------+--------------------+--------------------+----+------------------+--------------------+--------------------+------+--------+----+--------+----+--------------+--------+------------+------------+----+--------------------+------------+-------------+--------------------+\n",
      "|      ID|Case Number|                Date|               Block|IUCR|      Primary Type|         Description|Location Description|Arrest|Domestic|Beat|District|Ward|Community Area|FBI Code|X Coordinate|Y Coordinate|Year|          Updated On|    Latitude|    Longitude|            Location|\n",
      "+--------+-----------+--------------------+--------------------+----+------------------+--------------------+--------------------+------+--------+----+--------+----+--------------+--------+------------+------------+----+--------------------+------------+-------------+--------------------+\n",
      "|11037294|   JA371270|03/18/2015 12:00:...|   0000X W WACKER DR|1153|DECEPTIVE PRACTICE|FINANCIAL IDENTIT...|                BANK| false|   false| 111|       1|  42|            32|      11|        NULL|        NULL|2015|08/01/2017 03:52:...|        NULL|         NULL|                NULL|\n",
      "|11646293|   JC213749|12/20/2018 03:00:...|023XX N LOCKWOOD AVE|1154|DECEPTIVE PRACTICE|FINANCIAL IDENTIT...|           APARTMENT| false|   false|2515|      25|  36|            19|      11|        NULL|        NULL|2018|04/06/2019 04:04:...|        NULL|         NULL|                NULL|\n",
      "|11645836|   JC212333|05/01/2016 12:25:...| 055XX S ROCKWELL ST|1153|DECEPTIVE PRACTICE|FINANCIAL IDENTIT...|                NULL| false|   false| 824|       8|  15|            63|      11|        NULL|        NULL|2016|04/06/2019 04:04:...|        NULL|         NULL|                NULL|\n",
      "|11645959|   JC211511|12/20/2018 04:00:...|  045XX N ALBANY AVE|2820|     OTHER OFFENSE|    TELEPHONE THREAT|           RESIDENCE| false|   false|1724|      17|  33|            14|     08A|        NULL|        NULL|2018|04/06/2019 04:04:...|        NULL|         NULL|                NULL|\n",
      "|11645601|   JC212935|06/01/2014 12:01:...| 087XX S SANGAMON ST|1153|DECEPTIVE PRACTICE|FINANCIAL IDENTIT...|           RESIDENCE| false|   false|2222|      22|  21|            71|      11|        NULL|        NULL|2014|04/06/2019 04:04:...|        NULL|         NULL|                NULL|\n",
      "|11646166|   JC213529|09/01/2018 12:01:...|082XX S INGLESIDE...|0810|             THEFT|           OVER $500|           RESIDENCE| false|    true| 631|       6|   8|            44|      06|        NULL|        NULL|2018|04/06/2019 04:04:...|        NULL|         NULL|                NULL|\n",
      "|11645648|   JC212959|01/01/2018 08:00:...| 024XX N MONITOR AVE|1153|DECEPTIVE PRACTICE|FINANCIAL IDENTIT...|           RESIDENCE| false|   false|2515|      25|  30|            19|      11|        NULL|        NULL|2018|04/06/2019 04:04:...|        NULL|         NULL|                NULL|\n",
      "|11645557|   JC212685|04/01/2018 12:01:...|  080XX S VERNON AVE|1153|DECEPTIVE PRACTICE|FINANCIAL IDENTIT...|           RESIDENCE| false|   false| 631|       6|   6|            44|      11|        NULL|        NULL|2018|04/06/2019 04:04:...|        NULL|         NULL|                NULL|\n",
      "|11645527|   JC212744|02/02/2015 10:00:...|  069XX W ARCHER AVE|1153|DECEPTIVE PRACTICE|FINANCIAL IDENTIT...|               OTHER| false|   false| 811|       8|  23|            56|      11|        NULL|        NULL|2015|04/06/2019 04:04:...|        NULL|         NULL|                NULL|\n",
      "|11645833|   JC213044|05/05/2012 12:25:...|     057XX W OHIO ST|1153|DECEPTIVE PRACTICE|FINANCIAL IDENTIT...|                NULL| false|   false|1511|      15|  29|            25|      11|        NULL|        NULL|2012|04/06/2019 04:04:...|        NULL|         NULL|                NULL|\n",
      "|11645568|   JC212803|12/18/2018 11:00:...|  032XX N WILTON AVE|1153|DECEPTIVE PRACTICE|FINANCIAL IDENTIT...|           RESIDENCE| false|   false|1924|      19|  44|             6|      11|        NULL|        NULL|2018|04/06/2019 04:04:...|        NULL|         NULL|                NULL|\n",
      "|12045583|   JD226426|05/07/2020 10:24:...| 035XX S INDIANA AVE|0820|             THEFT|      $500 AND UNDER|           APARTMENT| false|   false| 212|       2|   3|            35|      06|     1178180|     1881621|2020|05/14/2020 08:47:...|41.830481843|-87.621751752|(41.830481843, -8...|\n",
      "|12031001|   JD209965|04/16/2020 05:00:...|     005XX W 32ND ST|0460|           BATTERY|              SIMPLE|           APARTMENT|  true|   false| 915|       9|  11|            60|     08B|     1173292|     1883705|2020|04/23/2020 03:45:...|41.836310224|-87.639624112|(41.836310224, -8...|\n",
      "|12093529|   JD282112|07/01/2020 10:16:...|   081XX S COLES AVE|051A|           ASSAULT|AGGRAVATED - HANDGUN|              STREET|  true|   false| 422|       4|   7|            46|     04A|     1198234|     1851595|2020|07/08/2020 03:41:...|41.747609555|-87.549179329|(41.747609555, -8...|\n",
      "|12178140|   JD381597|09/27/2020 11:29:...| 065XX S WOLCOTT AVE|0460|           BATTERY|              SIMPLE|RESIDENCE - PORCH...| false|   false| 726|       7|  15|            67|     08B|     1164812|     1861251|2020|10/04/2020 03:43:...| 41.77487752|-87.671374872|(41.77487752, -87...|\n",
      "| 4144897|   HL474854|07/10/2005 03:00:...| 062XX S ABERDEEN ST|0430|           BATTERY|AGGRAVATED: OTHER...|              STREET| false|   false| 712|       7|  16|            68|     04B|     1170050|     1863524|2005|02/28/2018 03:56:...|41.781002663|-87.652107119|(41.781002663, -8...|\n",
      "| 1744168|    G553545|09/15/2001 02:00:...|     013XX W POLK ST|0460|           BATTERY|              SIMPLE|              STREET| false|   false|1213|      12|NULL|          NULL|     08B|        NULL|        NULL|2001|08/17/2015 03:03:...|        NULL|         NULL|                NULL|\n",
      "|11641644|   JC207234|03/31/2019 09:30:...|   005XX N ogden ave|0890|             THEFT|       FROM BUILDING|          RESTAURANT| false|   false|1215|      12|   1|            24|      06|        NULL|        NULL|2019|04/07/2019 04:05:...|        NULL|         NULL|                NULL|\n",
      "|11615821|   JC176668|01/01/2016 12:00:...| 054XX N NATCHEZ AVE|1195|DECEPTIVE PRACTICE|FINAN EXPLOIT-ELD...|           RESIDENCE| false|    true|1613|      16|  45|            10|      11|        NULL|        NULL|2016|03/08/2019 04:36:...|        NULL|         NULL|                NULL|\n",
      "|12126129|   JD321064|08/04/2020 08:28:...| 081XX S LOOMIS BLVD|143A| WEAPONS VIOLATION|UNLAWFUL POSSESSI...|              STREET|  true|   false| 613|       6|  21|            71|      15|     1168412|     1850836|2020|08/11/2020 03:42:...|41.746220584|-87.658477307|(41.746220584, -8...|\n",
      "+--------+-----------+--------------------+--------------------+----+------------------+--------------------+--------------------+------+--------+----+--------+----+--------------+--------+------------+------------+----+--------------------+------------+-------------+--------------------+\n",
      "only showing top 20 rows\n",
      "\n",
      "root\n",
      " |-- ID: integer (nullable = true)\n",
      " |-- Case Number: string (nullable = true)\n",
      " |-- Date: string (nullable = true)\n",
      " |-- Block: string (nullable = true)\n",
      " |-- IUCR: string (nullable = true)\n",
      " |-- Primary Type: string (nullable = true)\n",
      " |-- Description: string (nullable = true)\n",
      " |-- Location Description: string (nullable = true)\n",
      " |-- Arrest: boolean (nullable = true)\n",
      " |-- Domestic: boolean (nullable = true)\n",
      " |-- Beat: integer (nullable = true)\n",
      " |-- District: integer (nullable = true)\n",
      " |-- Ward: integer (nullable = true)\n",
      " |-- Community Area: integer (nullable = true)\n",
      " |-- FBI Code: string (nullable = true)\n",
      " |-- X Coordinate: integer (nullable = true)\n",
      " |-- Y Coordinate: integer (nullable = true)\n",
      " |-- Year: integer (nullable = true)\n",
      " |-- Updated On: string (nullable = true)\n",
      " |-- Latitude: double (nullable = true)\n",
      " |-- Longitude: double (nullable = true)\n",
      " |-- Location: string (nullable = true)\n",
      "\n",
      "Number of rows: 4559\n"
     ]
    }
   ],
   "source": [
    "df.show()\n",
    "df.printSchema()\n",
    "print(f\"Number of rows: {df.count()}\")"
   ]
  },
  {
   "cell_type": "code",
   "execution_count": 6,
   "metadata": {
    "id": "BdE85C7eon4W"
   },
   "outputs": [],
   "source": [
    "df1=df.na.drop()\n"
   ]
  },
  {
   "cell_type": "code",
   "execution_count": 7,
   "metadata": {
    "colab": {
     "base_uri": "https://localhost:8080/"
    },
    "id": "CR8sHQHsoree",
    "outputId": "23d4d485-b070-4f07-c107-5f379b15346a"
   },
   "outputs": [
    {
     "name": "stdout",
     "output_type": "stream",
     "text": [
      "+-------+--------------------+-----------+--------------------+----------------+------------------+-----------------+--------------------+--------------------+------------------+-----------------+-----------------+------------------+------------------+------------------+------------------+------------------+--------------------+-------------------+-------------------+--------------------+\n",
      "|summary|                  ID|Case Number|                Date|           Block|              IUCR|     Primary Type|         Description|Location Description|              Beat|         District|             Ward|    Community Area|          FBI Code|      X Coordinate|      Y Coordinate|              Year|          Updated On|           Latitude|          Longitude|            Location|\n",
      "+-------+--------------------+-----------+--------------------+----------------+------------------+-----------------+--------------------+--------------------+------------------+-----------------+-----------------+------------------+------------------+------------------+------------------+------------------+--------------------+-------------------+-------------------+--------------------+\n",
      "|  count|                3720|       3720|                3720|            3720|              3720|             3720|                3720|                3720|              3720|             3720|             3720|              3720|              3720|              3720|              3720|              3720|                3720|               3720|               3720|                3720|\n",
      "|   mean|1.2511629096236559E7|       NULL|                NULL|            NULL|1055.7595419847328|             NULL|                NULL|                NULL|1153.6720430107528|11.30537634408602|22.98467741935484| 36.64650537634409|11.022093023255813|1164689.5139784946|1886852.3782258064|2021.1591397849463|                NULL|   41.8451173457966| -87.67114544312278|                NULL|\n",
      "| stddev|   790207.5147704879|       NULL|                NULL|            NULL| 817.4069214305736|             NULL|                NULL|                NULL| 705.5314714008098|7.049647097041479|13.91448285724024|21.530584152111025| 6.711750320183154|16435.495709657698|31910.173584826003|1.6961900941595294|                NULL|0.08776084701954791|0.05981237536763975|                NULL|\n",
      "|    min|               26262|   HL454109|01/01/2020 12:00:...|0000X E 101ST PL|              0110|            ARSON|      $500 AND UNDER|  ABANDONED BUILDING|               111|                1|                1|                 1|               01A|           1100088|           1815536|              2005|01/13/2021 03:39:...|       41.648588776|      -87.907472601|(41.648588776, -8...|\n",
      "|    max|            13223939|   JG440287|12/20/2022 04:30:...|135XX S AVENUE O|              5130|WEAPONS VIOLATION|VIOLENT OFFENDER ...|           WAREHOUSE|              2535|               25|               50|                77|                26|           1204544|           1951493|              2023|12/30/2020 03:40:...|        42.02253638|      -87.527258234|(42.02253638, -87...|\n",
      "+-------+--------------------+-----------+--------------------+----------------+------------------+-----------------+--------------------+--------------------+------------------+-----------------+-----------------+------------------+------------------+------------------+------------------+------------------+--------------------+-------------------+-------------------+--------------------+\n",
      "\n"
     ]
    }
   ],
   "source": [
    "df1.describe().show()"
   ]
  },
  {
   "cell_type": "code",
   "execution_count": 8,
   "metadata": {
    "colab": {
     "base_uri": "https://localhost:8080/"
    },
    "id": "VW7QSQE4ot2z",
    "outputId": "1932f976-bb25-4849-c4b2-d41b3b57e6de"
   },
   "outputs": [
    {
     "name": "stdout",
     "output_type": "stream",
     "text": [
      "+--------+-----------+--------------------+--------------------+----+--------------------+--------------------+--------------------+------+--------+----+--------+----+--------------+--------+------------+------------+----+--------------------+------------+-------------+--------------------+\n",
      "|      ID|Case Number|                Date|               Block|IUCR|        Primary Type|         Description|Location Description|Arrest|Domestic|Beat|District|Ward|Community Area|FBI Code|X Coordinate|Y Coordinate|Year|          Updated On|    Latitude|    Longitude|            Location|\n",
      "+--------+-----------+--------------------+--------------------+----+--------------------+--------------------+--------------------+------+--------+----+--------+----+--------------+--------+------------+------------+----+--------------------+------------+-------------+--------------------+\n",
      "|12045583|   JD226426|05/07/2020 10:24:...| 035XX S INDIANA AVE|0820|               THEFT|      $500 AND UNDER|           APARTMENT| false|   false| 212|       2|   3|            35|      06|     1178180|     1881621|2020|05/14/2020 08:47:...|41.830481843|-87.621751752|(41.830481843, -8...|\n",
      "|12031001|   JD209965|04/16/2020 05:00:...|     005XX W 32ND ST|0460|             BATTERY|              SIMPLE|           APARTMENT|  true|   false| 915|       9|  11|            60|     08B|     1173292|     1883705|2020|04/23/2020 03:45:...|41.836310224|-87.639624112|(41.836310224, -8...|\n",
      "|12093529|   JD282112|07/01/2020 10:16:...|   081XX S COLES AVE|051A|             ASSAULT|AGGRAVATED - HANDGUN|              STREET|  true|   false| 422|       4|   7|            46|     04A|     1198234|     1851595|2020|07/08/2020 03:41:...|41.747609555|-87.549179329|(41.747609555, -8...|\n",
      "|12178140|   JD381597|09/27/2020 11:29:...| 065XX S WOLCOTT AVE|0460|             BATTERY|              SIMPLE|RESIDENCE - PORCH...| false|   false| 726|       7|  15|            67|     08B|     1164812|     1861251|2020|10/04/2020 03:43:...| 41.77487752|-87.671374872|(41.77487752, -87...|\n",
      "| 4144897|   HL474854|07/10/2005 03:00:...| 062XX S ABERDEEN ST|0430|             BATTERY|AGGRAVATED: OTHER...|              STREET| false|   false| 712|       7|  16|            68|     04B|     1170050|     1863524|2005|02/28/2018 03:56:...|41.781002663|-87.652107119|(41.781002663, -8...|\n",
      "|12126129|   JD321064|08/04/2020 08:28:...| 081XX S LOOMIS BLVD|143A|   WEAPONS VIOLATION|UNLAWFUL POSSESSI...|              STREET|  true|   false| 613|       6|  21|            71|      15|     1168412|     1850836|2020|08/11/2020 03:42:...|41.746220584|-87.658477307|(41.746220584, -8...|\n",
      "|12010314|   JD186932|03/15/2020 09:00:...|    051XX W HURON ST|2820|       OTHER OFFENSE|    TELEPHONE THREAT|           APARTMENT| false|   false|1531|      15|  37|            25|     08A|     1141763|     1904131|2020|03/22/2020 03:41:...|41.893002363|-87.754811709|(41.893002363, -8...|\n",
      "|12067286|   JD251718|06/02/2020 10:00:...| 042XX S EMERALD AVE|0820|               THEFT|      $500 AND UNDER|              STREET|  true|   false| 925|       9|  11|            61|      06|     1172009|     1876708|2020|06/09/2020 03:43:...|41.817138145|-87.644537728|(41.817138145, -8...|\n",
      "| 4229528|   HL545852|08/12/2005 11:00:...|063XX S COTTAGE G...|3730|INTERFERENCE WITH...| OBSTRUCTING JUSTICE|            SIDEWALK|  true|   false| 312|       3|  20|            42|      24|     1182654|     1863077|2005|02/28/2018 03:56:...|41.779492755|-87.605912536|(41.779492755, -8...|\n",
      "|12163191|   JD364357|09/11/2020 10:44:...|008XX N TRUMBULL AVE|0486|             BATTERY|DOMESTIC BATTERY ...|           RESIDENCE|  true|    true|1121|      11|  27|            23|     08B|     1153223|     1905475|2020|09/07/2021 03:41:...|41.896470682|-87.712687444|(41.896470682, -8...|\n",
      "|12142075|   JD339709|08/21/2020 12:00:...|015XX N MILWAUKEE...|0420|             BATTERY|AGGRAVATED - KNIF...|            SIDEWALK| false|   false|1424|      14|   1|            24|     04B|     1163078|     1910357|2020|08/28/2020 03:42:...| 41.90966592|-87.676354472|(41.90966592, -87...|\n",
      "|12005594|   JD181480|03/11/2020 12:00:...|     040XX W 26TH ST|0860|               THEFT|        RETAIL THEFT|  SMALL RETAIL STORE| false|   false|1031|      10|  22|            30|      06|     1150021|     1886423|2020|03/18/2020 03:41:...|41.844252757|-87.724943845|(41.844252757, -8...|\n",
      "|12070567|   JD249245|06/01/2020 01:20:...|024XX N MILWAUKEE...|0620|            BURGLARY|      UNLAWFUL ENTRY|  SMALL RETAIL STORE| false|   false|1414|      14|   1|            22|      05|     1156086|     1916141|2020|07/06/2020 03:40:...|41.925681769|-87.701883719|(41.925681769, -8...|\n",
      "|12057551|   JD240361|05/23/2020 12:20:...| 068XX S LOOMIS BLVD|0486|             BATTERY|DOMESTIC BATTERY ...|              STREET| false|    true| 724|       7|  17|            67|     08B|     1168179|     1859299|2020|09/07/2021 03:41:...|41.769449202|-87.659088027|(41.769449202, -8...|\n",
      "|12057185|   JD239952|05/22/2020 10:29:...|   0000X N LOREL AVE|2024|           NARCOTICS|POSSESS - HEROIN ...|              STREET|  true|   false|1522|      15|  28|            25|      18|     1140721|     1899686|2020|05/29/2020 03:41:...|41.880823946|-87.758747941|(41.880823946, -8...|\n",
      "|12107263|   JD298884|07/15/2020 10:15:...| 070XX S CHAPPEL AVE|0560|             ASSAULT|              SIMPLE|           APARTMENT| false|    true| 331|       3|   5|            43|     08A|     1191099|     1858560|2020|07/22/2020 03:42:...|41.766897557|-87.575098672|(41.766897557, -8...|\n",
      "|12178347|   JD382022|09/28/2020 10:23:...|038XX W JACKSON BLVD|2820|       OTHER OFFENSE|    TELEPHONE THREAT|     OTHER (SPECIFY)| false|   false|1133|      11|  28|            26|     08A|     1150770|     1898411|2020|10/05/2020 03:40:...|41.877134658|-87.721881801|(41.877134658, -8...|\n",
      "|12164381|   JD361415|09/09/2020 09:23:...|  081XX S VERNON AVE|0560|             ASSAULT|              SIMPLE|           RESIDENCE| false|   false| 631|       6|   6|            44|     08A|     1180660|     1851072|2020|09/16/2020 03:41:...|41.746595831|-87.613590958|(41.746595831, -8...|\n",
      "|12072697|   JD257284|06/06/2020 07:45:...|065XX S UNIVERSIT...|2820|       OTHER OFFENSE|    TELEPHONE THREAT|     OTHER (SPECIFY)| false|   false| 321|       3|   5|            42|     08A|     1184679|     1861785|2020|06/13/2020 03:42:...|41.775900146|-87.598529213|(41.775900146, -8...|\n",
      "|12126191|   JD321188|08/05/2020 01:00:...|025XX S MICHIGAN AVE|0454|             BATTERY|AGGRAVATED P.O. -...|HOSPITAL BUILDING...|  true|   false| 133|       1|   4|            33|     08B|     1177647|     1887564|2020|08/12/2020 03:41:...|41.846801978|-87.623527134|(41.846801978, -8...|\n",
      "+--------+-----------+--------------------+--------------------+----+--------------------+--------------------+--------------------+------+--------+----+--------+----+--------------+--------+------------+------------+----+--------------------+------------+-------------+--------------------+\n",
      "only showing top 20 rows\n",
      "\n"
     ]
    }
   ],
   "source": [
    "df1.show()"
   ]
  },
  {
   "cell_type": "code",
   "execution_count": 9,
   "metadata": {
    "id": "CT4oqSrrrRym"
   },
   "outputs": [],
   "source": [
    "from pyspark.ml.feature import StringIndexer\n",
    "from pyspark.ml import Pipeline\n",
    "from pyspark.sql.functions import col\n",
    "\n",
    "\n",
    "# Convert boolean \"Arrest\" column to string\n",
    "df1 = df1.withColumn(\"Arrest\", col(\"Arrest\").cast(\"string\"))\n",
    "df1 = df1.withColumn(\"Domestic\", col(\"Domestic\").cast(\"string\"))"
   ]
  },
  {
   "cell_type": "code",
   "execution_count": 43,
   "metadata": {
    "colab": {
     "base_uri": "https://localhost:8080/"
    },
    "id": "dbFzvhDHo88P",
    "outputId": "028c2ab4-8fe6-48a7-e1eb-21db1aac5f8f"
   },
   "outputs": [
    {
     "name": "stdout",
     "output_type": "stream",
     "text": [
      "+--------+-----------+--------------------+--------------------+----+--------------------+--------------------+--------------------+------+--------+----+--------+----+--------------+--------+------------+------------+----+--------------------+------------+-------------+--------------------+--------------------+-------------------+--------------+----------------+----------------+------------+\n",
      "|      ID|Case Number|                Date|               Block|IUCR|        Primary Type|         Description|Location Description|Arrest|Domestic|Beat|District|Ward|Community Area|FBI Code|X Coordinate|Y Coordinate|Year|          Updated On|    Latitude|    Longitude|            Location|Primary Type_encoded|Description_encoded|Arrest_encoded|Domestic_encoded|FBI Code_encoded|Year_encoded|\n",
      "+--------+-----------+--------------------+--------------------+----+--------------------+--------------------+--------------------+------+--------+----+--------+----+--------------+--------+------------+------------+----+--------------------+------------+-------------+--------------------+--------------------+-------------------+--------------+----------------+----------------+------------+\n",
      "|12045583|   JD226426|05/07/2020 10:24:...| 035XX S INDIANA AVE|0820|               THEFT|      $500 AND UNDER|           APARTMENT| false|   false| 212|       2|   3|            35|      06|     1178180|     1881621|2020|05/14/2020 08:47:...|41.830481843|-87.621751752|(41.830481843, -8...|                 0.0|                2.0|           0.0|             0.0|             0.0|         0.0|\n",
      "|12031001|   JD209965|04/16/2020 05:00:...|     005XX W 32ND ST|0460|             BATTERY|              SIMPLE|           APARTMENT|  true|   false| 915|       9|  11|            60|     08B|     1173292|     1883705|2020|04/23/2020 03:45:...|41.836310224|-87.639624112|(41.836310224, -8...|                 1.0|                0.0|           1.0|             0.0|             1.0|         0.0|\n",
      "|12093529|   JD282112|07/01/2020 10:16:...|   081XX S COLES AVE|051A|             ASSAULT|AGGRAVATED - HANDGUN|              STREET|  true|   false| 422|       4|   7|            46|     04A|     1198234|     1851595|2020|07/08/2020 03:41:...|41.747609555|-87.549179329|(41.747609555, -8...|                 3.0|                8.0|           1.0|             0.0|            11.0|         0.0|\n",
      "|12178140|   JD381597|09/27/2020 11:29:...| 065XX S WOLCOTT AVE|0460|             BATTERY|              SIMPLE|RESIDENCE - PORCH...| false|   false| 726|       7|  15|            67|     08B|     1164812|     1861251|2020|10/04/2020 03:43:...| 41.77487752|-87.671374872|(41.77487752, -87...|                 1.0|                0.0|           0.0|             0.0|             1.0|         0.0|\n",
      "| 4144897|   HL474854|07/10/2005 03:00:...| 062XX S ABERDEEN ST|0430|             BATTERY|AGGRAVATED: OTHER...|              STREET| false|   false| 712|       7|  16|            68|     04B|     1170050|     1863524|2005|02/28/2018 03:56:...|41.781002663|-87.652107119|(41.781002663, -8...|                 1.0|              116.0|           0.0|             0.0|            10.0|         4.0|\n",
      "|12126129|   JD321064|08/04/2020 08:28:...| 081XX S LOOMIS BLVD|143A|   WEAPONS VIOLATION|UNLAWFUL POSSESSI...|              STREET|  true|   false| 613|       6|  21|            71|      15|     1168412|     1850836|2020|08/11/2020 03:42:...|41.746220584|-87.658477307|(41.746220584, -8...|                 9.0|               10.0|           1.0|             0.0|             9.0|         0.0|\n",
      "|12010314|   JD186932|03/15/2020 09:00:...|    051XX W HURON ST|2820|       OTHER OFFENSE|    TELEPHONE THREAT|           APARTMENT| false|   false|1531|      15|  37|            25|     08A|     1141763|     1904131|2020|03/22/2020 03:41:...|41.893002363|-87.754811709|(41.893002363, -8...|                 5.0|               14.0|           0.0|             0.0|             3.0|         0.0|\n",
      "|12067286|   JD251718|06/02/2020 10:00:...| 042XX S EMERALD AVE|0820|               THEFT|      $500 AND UNDER|              STREET|  true|   false| 925|       9|  11|            61|      06|     1172009|     1876708|2020|06/09/2020 03:43:...|41.817138145|-87.644537728|(41.817138145, -8...|                 0.0|                2.0|           1.0|             0.0|             0.0|         0.0|\n",
      "| 4229528|   HL545852|08/12/2005 11:00:...|063XX S COTTAGE G...|3730|INTERFERENCE WITH...| OBSTRUCTING JUSTICE|            SIDEWALK|  true|   false| 312|       3|  20|            42|      24|     1182654|     1863077|2005|02/28/2018 03:56:...|41.779492755|-87.605912536|(41.779492755, -8...|                16.0|               70.0|           1.0|             0.0|            15.0|         4.0|\n",
      "|12163191|   JD364357|09/11/2020 10:44:...|008XX N TRUMBULL AVE|0486|             BATTERY|DOMESTIC BATTERY ...|           RESIDENCE|  true|    true|1121|      11|  27|            23|     08B|     1153223|     1905475|2020|09/07/2021 03:41:...|41.896470682|-87.712687444|(41.896470682, -8...|                 1.0|                1.0|           1.0|             1.0|             1.0|         0.0|\n",
      "|12142075|   JD339709|08/21/2020 12:00:...|015XX N MILWAUKEE...|0420|             BATTERY|AGGRAVATED - KNIF...|            SIDEWALK| false|   false|1424|      14|   1|            24|     04B|     1163078|     1910357|2020|08/28/2020 03:42:...| 41.90966592|-87.676354472|(41.90966592, -87...|                 1.0|               20.0|           0.0|             0.0|            10.0|         0.0|\n",
      "|12005594|   JD181480|03/11/2020 12:00:...|     040XX W 26TH ST|0860|               THEFT|        RETAIL THEFT|  SMALL RETAIL STORE| false|   false|1031|      10|  22|            30|      06|     1150021|     1886423|2020|03/18/2020 03:41:...|41.844252757|-87.724943845|(41.844252757, -8...|                 0.0|                7.0|           0.0|             0.0|             0.0|         0.0|\n",
      "|12070567|   JD249245|06/01/2020 01:20:...|024XX N MILWAUKEE...|0620|            BURGLARY|      UNLAWFUL ENTRY|  SMALL RETAIL STORE| false|   false|1414|      14|   1|            22|      05|     1156086|     1916141|2020|07/06/2020 03:40:...|41.925681769|-87.701883719|(41.925681769, -8...|                 7.0|               15.0|           0.0|             0.0|             8.0|         0.0|\n",
      "|12057551|   JD240361|05/23/2020 12:20:...| 068XX S LOOMIS BLVD|0486|             BATTERY|DOMESTIC BATTERY ...|              STREET| false|    true| 724|       7|  17|            67|     08B|     1168179|     1859299|2020|09/07/2021 03:41:...|41.769449202|-87.659088027|(41.769449202, -8...|                 1.0|                1.0|           0.0|             1.0|             1.0|         0.0|\n",
      "|12057185|   JD239952|05/22/2020 10:29:...|   0000X N LOREL AVE|2024|           NARCOTICS|POSSESS - HEROIN ...|              STREET|  true|   false|1522|      15|  28|            25|      18|     1140721|     1899686|2020|05/29/2020 03:41:...|41.880823946|-87.758747941|(41.880823946, -8...|                10.0|               34.0|           1.0|             0.0|            12.0|         0.0|\n",
      "|12107263|   JD298884|07/15/2020 10:15:...| 070XX S CHAPPEL AVE|0560|             ASSAULT|              SIMPLE|           APARTMENT| false|    true| 331|       3|   5|            43|     08A|     1191099|     1858560|2020|07/22/2020 03:42:...|41.766897557|-87.575098672|(41.766897557, -8...|                 3.0|                0.0|           0.0|             1.0|             3.0|         0.0|\n",
      "|12178347|   JD382022|09/28/2020 10:23:...|038XX W JACKSON BLVD|2820|       OTHER OFFENSE|    TELEPHONE THREAT|     OTHER (SPECIFY)| false|   false|1133|      11|  28|            26|     08A|     1150770|     1898411|2020|10/05/2020 03:40:...|41.877134658|-87.721881801|(41.877134658, -8...|                 5.0|               14.0|           0.0|             0.0|             3.0|         0.0|\n",
      "|12164381|   JD361415|09/09/2020 09:23:...|  081XX S VERNON AVE|0560|             ASSAULT|              SIMPLE|           RESIDENCE| false|   false| 631|       6|   6|            44|     08A|     1180660|     1851072|2020|09/16/2020 03:41:...|41.746595831|-87.613590958|(41.746595831, -8...|                 3.0|                0.0|           0.0|             0.0|             3.0|         0.0|\n",
      "|12072697|   JD257284|06/06/2020 07:45:...|065XX S UNIVERSIT...|2820|       OTHER OFFENSE|    TELEPHONE THREAT|     OTHER (SPECIFY)| false|   false| 321|       3|   5|            42|     08A|     1184679|     1861785|2020|06/13/2020 03:42:...|41.775900146|-87.598529213|(41.775900146, -8...|                 5.0|               14.0|           0.0|             0.0|             3.0|         0.0|\n",
      "|12126191|   JD321188|08/05/2020 01:00:...|025XX S MICHIGAN AVE|0454|             BATTERY|AGGRAVATED P.O. -...|HOSPITAL BUILDING...|  true|   false| 133|       1|   4|            33|     08B|     1177647|     1887564|2020|08/12/2020 03:41:...|41.846801978|-87.623527134|(41.846801978, -8...|                 1.0|               30.0|           1.0|             0.0|             1.0|         0.0|\n",
      "+--------+-----------+--------------------+--------------------+----+--------------------+--------------------+--------------------+------+--------+----+--------+----+--------------+--------+------------+------------+----+--------------------+------------+-------------+--------------------+--------------------+-------------------+--------------+----------------+----------------+------------+\n",
      "only showing top 20 rows\n",
      "\n"
     ]
    }
   ],
   "source": [
    "from pyspark.ml.feature import StringIndexer\n",
    "from pyspark.ml import Pipeline\n",
    "from pyspark.sql.functions import col\n",
    "\n",
    "# Columns to apply label encoding\n",
    "columns_to_encode = [\"Primary Type\", \"Description\",\"Arrest\", \"Domestic\", \"FBI Code\", \"Year\"]\n",
    "\n",
    "\n",
    "# Create a StringIndexer for each column\n",
    "indexers = [StringIndexer(inputCol=col, outputCol=col+\"_encoded\", handleInvalid=\"skip\") for col in columns_to_encode]\n",
    "\n",
    "# Create a pipeline to execute the StringIndexers\n",
    "pipeline = Pipeline(stages=indexers)\n",
    "\n",
    "# Fit and transform the data using the pipeline\n",
    "df2 = pipeline.fit(df1).transform(df1)\n",
    "\n",
    "# Show the result\n",
    "df2.show(20)\n"
   ]
  },
  {
   "cell_type": "code",
   "execution_count": 11,
   "metadata": {
    "colab": {
     "base_uri": "https://localhost:8080/"
    },
    "id": "amwNZcoWqvw8",
    "outputId": "2921b0fc-d21f-4082-e9c4-fe330bbac4bf"
   },
   "outputs": [
    {
     "name": "stdout",
     "output_type": "stream",
     "text": [
      "root\n",
      " |-- ID: integer (nullable = true)\n",
      " |-- Case Number: string (nullable = true)\n",
      " |-- Date: string (nullable = true)\n",
      " |-- Block: string (nullable = true)\n",
      " |-- IUCR: string (nullable = true)\n",
      " |-- Primary Type: string (nullable = true)\n",
      " |-- Description: string (nullable = true)\n",
      " |-- Location Description: string (nullable = true)\n",
      " |-- Arrest: string (nullable = true)\n",
      " |-- Domestic: string (nullable = true)\n",
      " |-- Beat: integer (nullable = true)\n",
      " |-- District: integer (nullable = true)\n",
      " |-- Ward: integer (nullable = true)\n",
      " |-- Community Area: integer (nullable = true)\n",
      " |-- FBI Code: string (nullable = true)\n",
      " |-- X Coordinate: integer (nullable = true)\n",
      " |-- Y Coordinate: integer (nullable = true)\n",
      " |-- Year: integer (nullable = true)\n",
      " |-- Updated On: string (nullable = true)\n",
      " |-- Latitude: double (nullable = true)\n",
      " |-- Longitude: double (nullable = true)\n",
      " |-- Location: string (nullable = true)\n",
      " |-- Primary Type_encoded: double (nullable = false)\n",
      " |-- Description_encoded: double (nullable = false)\n",
      " |-- Arrest_encoded: double (nullable = false)\n",
      " |-- Domestic_encoded: double (nullable = false)\n",
      " |-- FBI Code_encoded: double (nullable = false)\n",
      " |-- Year_encoded: double (nullable = false)\n",
      "\n"
     ]
    }
   ],
   "source": [
    "df2.printSchema()\n",
    "\n",
    "\n"
   ]
  },
  {
   "cell_type": "code",
   "execution_count": 12,
   "metadata": {
    "colab": {
     "base_uri": "https://localhost:8080/"
    },
    "id": "ApBUtTDOqc1W",
    "outputId": "b298c05f-f102-4e94-9225-32706dd6eb67"
   },
   "outputs": [
    {
     "name": "stdout",
     "output_type": "stream",
     "text": [
      "Accuracy: 0.77088948787062\n",
      "Precision: 0.7174360349080305\n",
      "Recall: 0.77088948787062\n",
      "F1 Score: 0.7288409979993241\n",
      "Feature Importances:\n",
      "Primary Type_encoded: 0.5669425430754009\n",
      "Description_encoded: 0.0781621749507504\n",
      "Arrest_encoded: 0.0\n",
      "Domestic_encoded: 0.008836572398426343\n",
      "FBI Code_encoded: 0.3459305752597785\n",
      "Year_encoded: 0.00012813431564367164\n"
     ]
    }
   ],
   "source": [
    "###Random forest\n",
    "\n",
    "\n",
    "from pyspark.ml.feature import VectorAssembler\n",
    "from pyspark.ml.classification import RandomForestClassifier\n",
    "from pyspark.ml.evaluation import MulticlassClassificationEvaluator\n",
    "from pyspark.sql import SparkSession\n",
    "\n",
    "# Create a Spark session\n",
    "spark = SparkSession.builder.appName(\"RandomForestExample\").getOrCreate()\n",
    "\n",
    "# Assuming df2 is your DataFrame with label-encoded columns\n",
    "# If not, replace df2 with your actual DataFrame\n",
    "\n",
    "# Assemble feature vectors\n",
    "feature_columns = [\"Primary Type_encoded\", \"Description_encoded\", \"Arrest_encoded\", \"Domestic_encoded\", \"FBI Code_encoded\", \"Year_encoded\"]\n",
    "assembler = VectorAssembler(inputCols=feature_columns, outputCol=\"features\")\n",
    "df2_assembled = assembler.transform(df2)\n",
    "\n",
    "# Split the data into training and testing sets\n",
    "(train_data, test_data) = df2_assembled.randomSplit([0.8, 0.2], seed=123)\n",
    "\n",
    "# Define and train the Random Forest Classifier\n",
    "rf = RandomForestClassifier(labelCol=\"Primary Type_encoded\", featuresCol=\"features\", numTrees=10, maxBins=510)\n",
    "\n",
    "model = rf.fit(train_data)\n",
    "\n",
    "# Make predictions\n",
    "predictions = model.transform(test_data)\n",
    "\n",
    "# Evaluate the model using MulticlassClassificationEvaluator\n",
    "evaluator = MulticlassClassificationEvaluator(labelCol=\"Primary Type_encoded\", predictionCol=\"prediction\", metricName=\"accuracy\")\n",
    "accuracy = evaluator.evaluate(predictions)\n",
    "print(f\"Accuracy: {accuracy}\")\n",
    "\n",
    "# Additional metrics: precision, recall, F1 score\n",
    "precision = evaluator.evaluate(predictions, {evaluator.metricName: \"weightedPrecision\"})\n",
    "recall = evaluator.evaluate(predictions, {evaluator.metricName: \"weightedRecall\"})\n",
    "f1_score = evaluator.evaluate(predictions, {evaluator.metricName: \"f1\"})\n",
    "\n",
    "print(f\"Precision: {precision}\")\n",
    "print(f\"Recall: {recall}\")\n",
    "print(f\"F1 Score: {f1_score}\")\n",
    "\n",
    "# Optional: Print the feature importances\n",
    "print(\"Feature Importances:\")\n",
    "for feature, importance in zip(feature_columns, model.featureImportances):\n",
    "    print(f\"{feature}: {importance}\")\n"
   ]
  },
  {
   "cell_type": "code",
   "execution_count": 13,
   "metadata": {
    "colab": {
     "base_uri": "https://localhost:8080/"
    },
    "id": "VpSihDR25jZg",
    "outputId": "8560bfd6-5e98-49eb-862a-426a0b1805ff"
   },
   "outputs": [
    {
     "name": "stdout",
     "output_type": "stream",
     "text": [
      "root\n",
      " |-- ID: integer (nullable = true)\n",
      " |-- Case Number: string (nullable = true)\n",
      " |-- Date: string (nullable = true)\n",
      " |-- Block: string (nullable = true)\n",
      " |-- IUCR: string (nullable = true)\n",
      " |-- Primary Type: string (nullable = true)\n",
      " |-- Description: string (nullable = true)\n",
      " |-- Location Description: string (nullable = true)\n",
      " |-- Arrest: string (nullable = true)\n",
      " |-- Domestic: string (nullable = true)\n",
      " |-- Beat: integer (nullable = true)\n",
      " |-- District: integer (nullable = true)\n",
      " |-- Ward: integer (nullable = true)\n",
      " |-- Community Area: integer (nullable = true)\n",
      " |-- FBI Code: string (nullable = true)\n",
      " |-- X Coordinate: integer (nullable = true)\n",
      " |-- Y Coordinate: integer (nullable = true)\n",
      " |-- Year: integer (nullable = true)\n",
      " |-- Updated On: string (nullable = true)\n",
      " |-- Latitude: double (nullable = true)\n",
      " |-- Longitude: double (nullable = true)\n",
      " |-- Location: string (nullable = true)\n",
      " |-- Primary Type_encoded: double (nullable = false)\n",
      " |-- Description_encoded: double (nullable = false)\n",
      " |-- Arrest_encoded: double (nullable = false)\n",
      " |-- Domestic_encoded: double (nullable = false)\n",
      " |-- FBI Code_encoded: double (nullable = false)\n",
      " |-- Year_encoded: double (nullable = false)\n",
      "\n"
     ]
    }
   ],
   "source": [
    "df2.printSchema()"
   ]
  },
  {
   "cell_type": "code",
   "execution_count": 14,
   "metadata": {
    "colab": {
     "base_uri": "https://localhost:8080/"
    },
    "id": "g1NBgO1R5Dry",
    "outputId": "7e5df2ab-efd5-4fbe-e1fd-f0d9bed44ebf"
   },
   "outputs": [
    {
     "name": "stdout",
     "output_type": "stream",
     "text": [
      "Best Parameters:\n",
      "Regularization Parameter (regParam): 0.01\n",
      "Elastic Net Parameter (elasticNetParam): 1.0\n",
      "Accuracy: 64.83%\n",
      "Weighted Precision: 59.26%\n",
      "Weighted Recall: 64.83%\n",
      "F1 Score: 61.41%\n"
     ]
    }
   ],
   "source": [
    "from pyspark.ml.classification import LogisticRegression\n",
    "from pyspark.ml.evaluation import MulticlassClassificationEvaluator\n",
    "from pyspark.ml.feature import VectorAssembler\n",
    "from pyspark.ml.tuning import ParamGridBuilder, CrossValidator\n",
    "from pyspark.sql import SparkSession\n",
    "\n",
    "# Assuming spark is your SparkSession and df2 is your DataFrame\n",
    "# If not, replace spark and df2 with your actual SparkSession and DataFrame\n",
    "\n",
    "# Define the fraction of data to sample (e.g., 0.25 for 25%)\n",
    "fraction_to_sample = 0.25\n",
    "\n",
    "# Create a subset of the data using the sample method\n",
    "df2_sampled = df2.sample(fraction=fraction_to_sample, seed=42)\n",
    "\n",
    "# Create a feature vector\n",
    "feature_cols = [\"Primary Type_encoded\", \"Description_encoded\", \"Arrest_encoded\", \"Domestic_encoded\", \"FBI Code_encoded\", \"Year_encoded\"]\n",
    "vector_assembler = VectorAssembler(inputCols=feature_cols, outputCol=\"featureslog\")\n",
    "df_assembled = vector_assembler.transform(df2_sampled)\n",
    "\n",
    "# Assuming label column is \"Primary Type_encoded\"\n",
    "lr = LogisticRegression(labelCol=\"Primary Type_encoded\", featuresCol=\"featureslog\")\n",
    "\n",
    "# Create ParamGrid for Cross Validation\n",
    "param_grid = ParamGridBuilder() \\\n",
    "    .addGrid(lr.regParam, [0.01, 0.1, 1.0]) \\\n",
    "    .addGrid(lr.elasticNetParam, [0.0, 0.5, 1.0]) \\\n",
    "    .build()\n",
    "\n",
    "# Create a 5-fold CrossValidator\n",
    "crossval = CrossValidator(estimator=lr,\n",
    "                          estimatorParamMaps=param_grid,\n",
    "                          evaluator=MulticlassClassificationEvaluator(labelCol=\"Primary Type_encoded\", metricName=\"accuracy\"),\n",
    "                          numFolds=5)\n",
    "\n",
    "# Run cross-validation, and choose the best set of parameters\n",
    "cv_model = crossval.fit(df_assembled)\n",
    "\n",
    "# Get the best model from cross-validation\n",
    "best_model = cv_model.bestModel\n",
    "\n",
    "# Display the best parameters\n",
    "print(\"Best Parameters:\")\n",
    "print(\"Regularization Parameter (regParam):\", best_model._java_obj.getRegParam())\n",
    "print(\"Elastic Net Parameter (elasticNetParam):\", best_model._java_obj.getElasticNetParam())\n",
    "\n",
    "# Make predictions on the test set\n",
    "predictions = best_model.transform(df_assembled)\n",
    "\n",
    "# Evaluate the model\n",
    "evaluator = MulticlassClassificationEvaluator(labelCol=\"Primary Type_encoded\", predictionCol=\"prediction\", metricName=\"accuracy\")\n",
    "accuracy = evaluator.evaluate(predictions)\n",
    "print(\"Accuracy: {:.2%}\".format(accuracy))\n",
    "\n",
    "# Additional metrics if needed\n",
    "precision = evaluator.evaluate(predictions, {evaluator.metricName: \"weightedPrecision\"})\n",
    "recall = evaluator.evaluate(predictions, {evaluator.metricName: \"weightedRecall\"})\n",
    "f1 = evaluator.evaluate(predictions, {evaluator.metricName: \"f1\"})\n",
    "\n",
    "print(\"Weighted Precision: {:.2%}\".format(precision))\n",
    "print(\"Weighted Recall: {:.2%}\".format(recall))\n",
    "print(\"F1 Score: {:.2%}\".format(f1))\n"
   ]
  },
  {
   "cell_type": "code",
   "execution_count": 47,
   "metadata": {
    "colab": {
     "base_uri": "https://localhost:8080/"
    },
    "id": "7HvxfzvV5htJ",
    "outputId": "4e25e1fd-eee1-4fa8-9c6a-8c66d05d8be7"
   },
   "outputs": [
    {
     "name": "stdout",
     "output_type": "stream",
     "text": [
      "root\n",
      " |-- ID: integer (nullable = true)\n",
      " |-- Case Number: string (nullable = true)\n",
      " |-- Date: string (nullable = true)\n",
      " |-- Block: string (nullable = true)\n",
      " |-- IUCR: string (nullable = true)\n",
      " |-- Primary Type: string (nullable = true)\n",
      " |-- Description: string (nullable = true)\n",
      " |-- Location Description: string (nullable = true)\n",
      " |-- Arrest: string (nullable = true)\n",
      " |-- Domestic: string (nullable = true)\n",
      " |-- Beat: integer (nullable = true)\n",
      " |-- District: integer (nullable = true)\n",
      " |-- Ward: integer (nullable = true)\n",
      " |-- Community Area: integer (nullable = true)\n",
      " |-- FBI Code: string (nullable = true)\n",
      " |-- X Coordinate: integer (nullable = true)\n",
      " |-- Y Coordinate: integer (nullable = true)\n",
      " |-- Year: integer (nullable = true)\n",
      " |-- Updated On: string (nullable = true)\n",
      " |-- Latitude: double (nullable = true)\n",
      " |-- Longitude: double (nullable = true)\n",
      " |-- Location: string (nullable = true)\n",
      " |-- Primary Type_encoded: double (nullable = false)\n",
      " |-- Description_encoded: double (nullable = false)\n",
      " |-- Arrest_encoded: double (nullable = false)\n",
      " |-- Domestic_encoded: double (nullable = false)\n",
      " |-- FBI Code_encoded: double (nullable = false)\n",
      " |-- Year_encoded: double (nullable = false)\n",
      " |-- logisticfeatures1: vector (nullable = true)\n",
      " |-- logisticfeatures21: vector (nullable = true)\n",
      "\n"
     ]
    }
   ],
   "source": [
    "df2.printSchema()"
   ]
  },
  {
   "cell_type": "code",
   "execution_count": 46,
   "metadata": {
    "colab": {
     "base_uri": "https://localhost:8080/",
     "height": 390
    },
    "id": "IsfS_qGf5r8v",
    "outputId": "da8cd91b-caa1-4815-8283-a91df38057db"
   },
   "outputs": [
    {
     "ename": "IllegalArgumentException",
     "evalue": "ignored",
     "output_type": "error",
     "traceback": [
      "\u001b[0;31m---------------------------------------------------------------------------\u001b[0m",
      "\u001b[0;31mIllegalArgumentException\u001b[0m                  Traceback (most recent call last)",
      "\u001b[0;32m<ipython-input-46-a3717b94949e>\u001b[0m in \u001b[0;36m<cell line: 31>\u001b[0;34m()\u001b[0m\n\u001b[1;32m     29\u001b[0m \u001b[0;34m\u001b[0m\u001b[0m\n\u001b[1;32m     30\u001b[0m \u001b[0;31m# Train the model\u001b[0m\u001b[0;34m\u001b[0m\u001b[0;34m\u001b[0m\u001b[0m\n\u001b[0;32m---> 31\u001b[0;31m \u001b[0mmodel\u001b[0m \u001b[0;34m=\u001b[0m \u001b[0mpipeline\u001b[0m\u001b[0;34m.\u001b[0m\u001b[0mfit\u001b[0m\u001b[0;34m(\u001b[0m\u001b[0mtrain_data\u001b[0m\u001b[0;34m)\u001b[0m\u001b[0;34m\u001b[0m\u001b[0;34m\u001b[0m\u001b[0m\n\u001b[0m\u001b[1;32m     32\u001b[0m \u001b[0;34m\u001b[0m\u001b[0m\n\u001b[1;32m     33\u001b[0m \u001b[0;31m# Make predictions\u001b[0m\u001b[0;34m\u001b[0m\u001b[0;34m\u001b[0m\u001b[0m\n",
      "\u001b[0;32m/usr/local/lib/python3.10/dist-packages/pyspark/ml/base.py\u001b[0m in \u001b[0;36mfit\u001b[0;34m(self, dataset, params)\u001b[0m\n\u001b[1;32m    203\u001b[0m                 \u001b[0;32mreturn\u001b[0m \u001b[0mself\u001b[0m\u001b[0;34m.\u001b[0m\u001b[0mcopy\u001b[0m\u001b[0;34m(\u001b[0m\u001b[0mparams\u001b[0m\u001b[0;34m)\u001b[0m\u001b[0;34m.\u001b[0m\u001b[0m_fit\u001b[0m\u001b[0;34m(\u001b[0m\u001b[0mdataset\u001b[0m\u001b[0;34m)\u001b[0m\u001b[0;34m\u001b[0m\u001b[0;34m\u001b[0m\u001b[0m\n\u001b[1;32m    204\u001b[0m             \u001b[0;32melse\u001b[0m\u001b[0;34m:\u001b[0m\u001b[0;34m\u001b[0m\u001b[0;34m\u001b[0m\u001b[0m\n\u001b[0;32m--> 205\u001b[0;31m                 \u001b[0;32mreturn\u001b[0m \u001b[0mself\u001b[0m\u001b[0;34m.\u001b[0m\u001b[0m_fit\u001b[0m\u001b[0;34m(\u001b[0m\u001b[0mdataset\u001b[0m\u001b[0;34m)\u001b[0m\u001b[0;34m\u001b[0m\u001b[0;34m\u001b[0m\u001b[0m\n\u001b[0m\u001b[1;32m    206\u001b[0m         \u001b[0;32melse\u001b[0m\u001b[0;34m:\u001b[0m\u001b[0;34m\u001b[0m\u001b[0;34m\u001b[0m\u001b[0m\n\u001b[1;32m    207\u001b[0m             raise TypeError(\n",
      "\u001b[0;32m/usr/local/lib/python3.10/dist-packages/pyspark/ml/pipeline.py\u001b[0m in \u001b[0;36m_fit\u001b[0;34m(self, dataset)\u001b[0m\n\u001b[1;32m    130\u001b[0m                 \u001b[0;32mif\u001b[0m \u001b[0misinstance\u001b[0m\u001b[0;34m(\u001b[0m\u001b[0mstage\u001b[0m\u001b[0;34m,\u001b[0m \u001b[0mTransformer\u001b[0m\u001b[0;34m)\u001b[0m\u001b[0;34m:\u001b[0m\u001b[0;34m\u001b[0m\u001b[0;34m\u001b[0m\u001b[0m\n\u001b[1;32m    131\u001b[0m                     \u001b[0mtransformers\u001b[0m\u001b[0;34m.\u001b[0m\u001b[0mappend\u001b[0m\u001b[0;34m(\u001b[0m\u001b[0mstage\u001b[0m\u001b[0;34m)\u001b[0m\u001b[0;34m\u001b[0m\u001b[0;34m\u001b[0m\u001b[0m\n\u001b[0;32m--> 132\u001b[0;31m                     \u001b[0mdataset\u001b[0m \u001b[0;34m=\u001b[0m \u001b[0mstage\u001b[0m\u001b[0;34m.\u001b[0m\u001b[0mtransform\u001b[0m\u001b[0;34m(\u001b[0m\u001b[0mdataset\u001b[0m\u001b[0;34m)\u001b[0m\u001b[0;34m\u001b[0m\u001b[0;34m\u001b[0m\u001b[0m\n\u001b[0m\u001b[1;32m    133\u001b[0m                 \u001b[0;32melse\u001b[0m\u001b[0;34m:\u001b[0m  \u001b[0;31m# must be an Estimator\u001b[0m\u001b[0;34m\u001b[0m\u001b[0;34m\u001b[0m\u001b[0m\n\u001b[1;32m    134\u001b[0m                     \u001b[0mmodel\u001b[0m \u001b[0;34m=\u001b[0m \u001b[0mstage\u001b[0m\u001b[0;34m.\u001b[0m\u001b[0mfit\u001b[0m\u001b[0;34m(\u001b[0m\u001b[0mdataset\u001b[0m\u001b[0;34m)\u001b[0m\u001b[0;34m\u001b[0m\u001b[0;34m\u001b[0m\u001b[0m\n",
      "\u001b[0;32m/usr/local/lib/python3.10/dist-packages/pyspark/ml/base.py\u001b[0m in \u001b[0;36mtransform\u001b[0;34m(self, dataset, params)\u001b[0m\n\u001b[1;32m    260\u001b[0m                 \u001b[0;32mreturn\u001b[0m \u001b[0mself\u001b[0m\u001b[0;34m.\u001b[0m\u001b[0mcopy\u001b[0m\u001b[0;34m(\u001b[0m\u001b[0mparams\u001b[0m\u001b[0;34m)\u001b[0m\u001b[0;34m.\u001b[0m\u001b[0m_transform\u001b[0m\u001b[0;34m(\u001b[0m\u001b[0mdataset\u001b[0m\u001b[0;34m)\u001b[0m\u001b[0;34m\u001b[0m\u001b[0;34m\u001b[0m\u001b[0m\n\u001b[1;32m    261\u001b[0m             \u001b[0;32melse\u001b[0m\u001b[0;34m:\u001b[0m\u001b[0;34m\u001b[0m\u001b[0;34m\u001b[0m\u001b[0m\n\u001b[0;32m--> 262\u001b[0;31m                 \u001b[0;32mreturn\u001b[0m \u001b[0mself\u001b[0m\u001b[0;34m.\u001b[0m\u001b[0m_transform\u001b[0m\u001b[0;34m(\u001b[0m\u001b[0mdataset\u001b[0m\u001b[0;34m)\u001b[0m\u001b[0;34m\u001b[0m\u001b[0;34m\u001b[0m\u001b[0m\n\u001b[0m\u001b[1;32m    263\u001b[0m         \u001b[0;32melse\u001b[0m\u001b[0;34m:\u001b[0m\u001b[0;34m\u001b[0m\u001b[0;34m\u001b[0m\u001b[0m\n\u001b[1;32m    264\u001b[0m             \u001b[0;32mraise\u001b[0m \u001b[0mTypeError\u001b[0m\u001b[0;34m(\u001b[0m\u001b[0;34m\"Params must be a param map but got %s.\"\u001b[0m \u001b[0;34m%\u001b[0m \u001b[0mtype\u001b[0m\u001b[0;34m(\u001b[0m\u001b[0mparams\u001b[0m\u001b[0;34m)\u001b[0m\u001b[0;34m)\u001b[0m\u001b[0;34m\u001b[0m\u001b[0;34m\u001b[0m\u001b[0m\n",
      "\u001b[0;32m/usr/local/lib/python3.10/dist-packages/pyspark/ml/wrapper.py\u001b[0m in \u001b[0;36m_transform\u001b[0;34m(self, dataset)\u001b[0m\n\u001b[1;32m    396\u001b[0m \u001b[0;34m\u001b[0m\u001b[0m\n\u001b[1;32m    397\u001b[0m         \u001b[0mself\u001b[0m\u001b[0;34m.\u001b[0m\u001b[0m_transfer_params_to_java\u001b[0m\u001b[0;34m(\u001b[0m\u001b[0;34m)\u001b[0m\u001b[0;34m\u001b[0m\u001b[0;34m\u001b[0m\u001b[0m\n\u001b[0;32m--> 398\u001b[0;31m         \u001b[0;32mreturn\u001b[0m \u001b[0mDataFrame\u001b[0m\u001b[0;34m(\u001b[0m\u001b[0mself\u001b[0m\u001b[0;34m.\u001b[0m\u001b[0m_java_obj\u001b[0m\u001b[0;34m.\u001b[0m\u001b[0mtransform\u001b[0m\u001b[0;34m(\u001b[0m\u001b[0mdataset\u001b[0m\u001b[0;34m.\u001b[0m\u001b[0m_jdf\u001b[0m\u001b[0;34m)\u001b[0m\u001b[0;34m,\u001b[0m \u001b[0mdataset\u001b[0m\u001b[0;34m.\u001b[0m\u001b[0msparkSession\u001b[0m\u001b[0;34m)\u001b[0m\u001b[0;34m\u001b[0m\u001b[0;34m\u001b[0m\u001b[0m\n\u001b[0m\u001b[1;32m    399\u001b[0m \u001b[0;34m\u001b[0m\u001b[0m\n\u001b[1;32m    400\u001b[0m \u001b[0;34m\u001b[0m\u001b[0m\n",
      "\u001b[0;32m/usr/local/lib/python3.10/dist-packages/py4j/java_gateway.py\u001b[0m in \u001b[0;36m__call__\u001b[0;34m(self, *args)\u001b[0m\n\u001b[1;32m   1320\u001b[0m \u001b[0;34m\u001b[0m\u001b[0m\n\u001b[1;32m   1321\u001b[0m         \u001b[0manswer\u001b[0m \u001b[0;34m=\u001b[0m \u001b[0mself\u001b[0m\u001b[0;34m.\u001b[0m\u001b[0mgateway_client\u001b[0m\u001b[0;34m.\u001b[0m\u001b[0msend_command\u001b[0m\u001b[0;34m(\u001b[0m\u001b[0mcommand\u001b[0m\u001b[0;34m)\u001b[0m\u001b[0;34m\u001b[0m\u001b[0;34m\u001b[0m\u001b[0m\n\u001b[0;32m-> 1322\u001b[0;31m         return_value = get_return_value(\n\u001b[0m\u001b[1;32m   1323\u001b[0m             answer, self.gateway_client, self.target_id, self.name)\n\u001b[1;32m   1324\u001b[0m \u001b[0;34m\u001b[0m\u001b[0m\n",
      "\u001b[0;32m/usr/local/lib/python3.10/dist-packages/pyspark/errors/exceptions/captured.py\u001b[0m in \u001b[0;36mdeco\u001b[0;34m(*a, **kw)\u001b[0m\n\u001b[1;32m    183\u001b[0m                 \u001b[0;31m# Hide where the exception came from that shows a non-Pythonic\u001b[0m\u001b[0;34m\u001b[0m\u001b[0;34m\u001b[0m\u001b[0m\n\u001b[1;32m    184\u001b[0m                 \u001b[0;31m# JVM exception message.\u001b[0m\u001b[0;34m\u001b[0m\u001b[0;34m\u001b[0m\u001b[0m\n\u001b[0;32m--> 185\u001b[0;31m                 \u001b[0;32mraise\u001b[0m \u001b[0mconverted\u001b[0m \u001b[0;32mfrom\u001b[0m \u001b[0;32mNone\u001b[0m\u001b[0;34m\u001b[0m\u001b[0;34m\u001b[0m\u001b[0m\n\u001b[0m\u001b[1;32m    186\u001b[0m             \u001b[0;32melse\u001b[0m\u001b[0;34m:\u001b[0m\u001b[0;34m\u001b[0m\u001b[0;34m\u001b[0m\u001b[0m\n\u001b[1;32m    187\u001b[0m                 \u001b[0;32mraise\u001b[0m\u001b[0;34m\u001b[0m\u001b[0;34m\u001b[0m\u001b[0m\n",
      "\u001b[0;31mIllegalArgumentException\u001b[0m: Output column logisticfeatures21 already exists."
     ]
    }
   ],
   "source": [
    "from pyspark.ml.feature import VectorAssembler\n",
    "from pyspark.ml.classification import LogisticRegression\n",
    "from pyspark.ml import Pipeline\n",
    "from pyspark.ml.evaluation import MulticlassClassificationEvaluator\n",
    "\n",
    "# Assuming you have a label column named 'Primary Type_encoded'\n",
    "label_col = 'Primary Type_encoded'\n",
    "\n",
    "# Create a feature vector without explicitly creating an output column\n",
    "feature_cols = [\n",
    "    'Description_encoded',\n",
    "    'Arrest_encoded',\n",
    "    'Domestic_encoded',\n",
    "    'FBI Code_encoded',\n",
    "    'Year_encoded'\n",
    "]\n",
    "\n",
    "assembler = VectorAssembler(inputCols=feature_cols, outputCol=\"logisticfeatures21\")\n",
    "lr = LogisticRegression(featuresCol=\"logisticfeatures21\", labelCol=label_col)\n",
    "\n",
    "# Create a pipeline\n",
    "pipeline = Pipeline(stages=[assembler, lr])\n",
    "\n",
    "# Transform the data using the assembler\n",
    "df2 = assembler.transform(df2)\n",
    "\n",
    "# Split the data into training and testing sets\n",
    "(train_data, test_data) = df2.randomSplit([0.8, 0.2], seed=42)\n",
    "\n",
    "# Train the model\n",
    "model = pipeline.fit(train_data)\n",
    "\n",
    "# Make predictions\n",
    "predictions = model.transform(test_data)\n",
    "\n",
    "# Evaluate the model\n",
    "evaluator = MulticlassClassificationEvaluator(labelCol=label_col, predictionCol=\"prediction\", metricName=\"accuracy\")\n",
    "accuracy = evaluator.evaluate(predictions)\n",
    "\n",
    "# Print the results\n",
    "print(f'Accuracy: {accuracy:.4f}')\n"
   ]
  },
  {
   "cell_type": "code",
   "execution_count": 38,
   "metadata": {
    "colab": {
     "base_uri": "https://localhost:8080/",
     "height": 1000
    },
    "id": "KNq5r1Fx77f-",
    "outputId": "bef65c3d-8da0-4d75-cef2-cea3677c85f7"
   },
   "outputs": [
    {
     "ename": "Py4JJavaError",
     "evalue": "ignored",
     "output_type": "error",
     "traceback": [
      "\u001b[0;31m---------------------------------------------------------------------------\u001b[0m",
      "\u001b[0;31mPy4JJavaError\u001b[0m                             Traceback (most recent call last)",
      "\u001b[0;32m<ipython-input-38-f057b570bdda>\u001b[0m in \u001b[0;36m<cell line: 23>\u001b[0;34m()\u001b[0m\n\u001b[1;32m     21\u001b[0m \u001b[0;34m\u001b[0m\u001b[0m\n\u001b[1;32m     22\u001b[0m \u001b[0;31m# Train the model\u001b[0m\u001b[0;34m\u001b[0m\u001b[0;34m\u001b[0m\u001b[0m\n\u001b[0;32m---> 23\u001b[0;31m \u001b[0mmodel\u001b[0m \u001b[0;34m=\u001b[0m \u001b[0mlsvc\u001b[0m\u001b[0;34m.\u001b[0m\u001b[0mfit\u001b[0m\u001b[0;34m(\u001b[0m\u001b[0mtrain_data\u001b[0m\u001b[0;34m)\u001b[0m\u001b[0;34m\u001b[0m\u001b[0;34m\u001b[0m\u001b[0m\n\u001b[0m\u001b[1;32m     24\u001b[0m \u001b[0;34m\u001b[0m\u001b[0m\n\u001b[1;32m     25\u001b[0m \u001b[0;31m# Make predictions\u001b[0m\u001b[0;34m\u001b[0m\u001b[0;34m\u001b[0m\u001b[0m\n",
      "\u001b[0;32m/usr/local/lib/python3.10/dist-packages/pyspark/ml/base.py\u001b[0m in \u001b[0;36mfit\u001b[0;34m(self, dataset, params)\u001b[0m\n\u001b[1;32m    203\u001b[0m                 \u001b[0;32mreturn\u001b[0m \u001b[0mself\u001b[0m\u001b[0;34m.\u001b[0m\u001b[0mcopy\u001b[0m\u001b[0;34m(\u001b[0m\u001b[0mparams\u001b[0m\u001b[0;34m)\u001b[0m\u001b[0;34m.\u001b[0m\u001b[0m_fit\u001b[0m\u001b[0;34m(\u001b[0m\u001b[0mdataset\u001b[0m\u001b[0;34m)\u001b[0m\u001b[0;34m\u001b[0m\u001b[0;34m\u001b[0m\u001b[0m\n\u001b[1;32m    204\u001b[0m             \u001b[0;32melse\u001b[0m\u001b[0;34m:\u001b[0m\u001b[0;34m\u001b[0m\u001b[0;34m\u001b[0m\u001b[0m\n\u001b[0;32m--> 205\u001b[0;31m                 \u001b[0;32mreturn\u001b[0m \u001b[0mself\u001b[0m\u001b[0;34m.\u001b[0m\u001b[0m_fit\u001b[0m\u001b[0;34m(\u001b[0m\u001b[0mdataset\u001b[0m\u001b[0;34m)\u001b[0m\u001b[0;34m\u001b[0m\u001b[0;34m\u001b[0m\u001b[0m\n\u001b[0m\u001b[1;32m    206\u001b[0m         \u001b[0;32melse\u001b[0m\u001b[0;34m:\u001b[0m\u001b[0;34m\u001b[0m\u001b[0;34m\u001b[0m\u001b[0m\n\u001b[1;32m    207\u001b[0m             raise TypeError(\n",
      "\u001b[0;32m/usr/local/lib/python3.10/dist-packages/pyspark/ml/wrapper.py\u001b[0m in \u001b[0;36m_fit\u001b[0;34m(self, dataset)\u001b[0m\n\u001b[1;32m    379\u001b[0m \u001b[0;34m\u001b[0m\u001b[0m\n\u001b[1;32m    380\u001b[0m     \u001b[0;32mdef\u001b[0m \u001b[0m_fit\u001b[0m\u001b[0;34m(\u001b[0m\u001b[0mself\u001b[0m\u001b[0;34m,\u001b[0m \u001b[0mdataset\u001b[0m\u001b[0;34m:\u001b[0m \u001b[0mDataFrame\u001b[0m\u001b[0;34m)\u001b[0m \u001b[0;34m->\u001b[0m \u001b[0mJM\u001b[0m\u001b[0;34m:\u001b[0m\u001b[0;34m\u001b[0m\u001b[0;34m\u001b[0m\u001b[0m\n\u001b[0;32m--> 381\u001b[0;31m         \u001b[0mjava_model\u001b[0m \u001b[0;34m=\u001b[0m \u001b[0mself\u001b[0m\u001b[0;34m.\u001b[0m\u001b[0m_fit_java\u001b[0m\u001b[0;34m(\u001b[0m\u001b[0mdataset\u001b[0m\u001b[0;34m)\u001b[0m\u001b[0;34m\u001b[0m\u001b[0;34m\u001b[0m\u001b[0m\n\u001b[0m\u001b[1;32m    382\u001b[0m         \u001b[0mmodel\u001b[0m \u001b[0;34m=\u001b[0m \u001b[0mself\u001b[0m\u001b[0;34m.\u001b[0m\u001b[0m_create_model\u001b[0m\u001b[0;34m(\u001b[0m\u001b[0mjava_model\u001b[0m\u001b[0;34m)\u001b[0m\u001b[0;34m\u001b[0m\u001b[0;34m\u001b[0m\u001b[0m\n\u001b[1;32m    383\u001b[0m         \u001b[0;32mreturn\u001b[0m \u001b[0mself\u001b[0m\u001b[0;34m.\u001b[0m\u001b[0m_copyValues\u001b[0m\u001b[0;34m(\u001b[0m\u001b[0mmodel\u001b[0m\u001b[0;34m)\u001b[0m\u001b[0;34m\u001b[0m\u001b[0;34m\u001b[0m\u001b[0m\n",
      "\u001b[0;32m/usr/local/lib/python3.10/dist-packages/pyspark/ml/wrapper.py\u001b[0m in \u001b[0;36m_fit_java\u001b[0;34m(self, dataset)\u001b[0m\n\u001b[1;32m    376\u001b[0m \u001b[0;34m\u001b[0m\u001b[0m\n\u001b[1;32m    377\u001b[0m         \u001b[0mself\u001b[0m\u001b[0;34m.\u001b[0m\u001b[0m_transfer_params_to_java\u001b[0m\u001b[0;34m(\u001b[0m\u001b[0;34m)\u001b[0m\u001b[0;34m\u001b[0m\u001b[0;34m\u001b[0m\u001b[0m\n\u001b[0;32m--> 378\u001b[0;31m         \u001b[0;32mreturn\u001b[0m \u001b[0mself\u001b[0m\u001b[0;34m.\u001b[0m\u001b[0m_java_obj\u001b[0m\u001b[0;34m.\u001b[0m\u001b[0mfit\u001b[0m\u001b[0;34m(\u001b[0m\u001b[0mdataset\u001b[0m\u001b[0;34m.\u001b[0m\u001b[0m_jdf\u001b[0m\u001b[0;34m)\u001b[0m\u001b[0;34m\u001b[0m\u001b[0;34m\u001b[0m\u001b[0m\n\u001b[0m\u001b[1;32m    379\u001b[0m \u001b[0;34m\u001b[0m\u001b[0m\n\u001b[1;32m    380\u001b[0m     \u001b[0;32mdef\u001b[0m \u001b[0m_fit\u001b[0m\u001b[0;34m(\u001b[0m\u001b[0mself\u001b[0m\u001b[0;34m,\u001b[0m \u001b[0mdataset\u001b[0m\u001b[0;34m:\u001b[0m \u001b[0mDataFrame\u001b[0m\u001b[0;34m)\u001b[0m \u001b[0;34m->\u001b[0m \u001b[0mJM\u001b[0m\u001b[0;34m:\u001b[0m\u001b[0;34m\u001b[0m\u001b[0;34m\u001b[0m\u001b[0m\n",
      "\u001b[0;32m/usr/local/lib/python3.10/dist-packages/py4j/java_gateway.py\u001b[0m in \u001b[0;36m__call__\u001b[0;34m(self, *args)\u001b[0m\n\u001b[1;32m   1320\u001b[0m \u001b[0;34m\u001b[0m\u001b[0m\n\u001b[1;32m   1321\u001b[0m         \u001b[0manswer\u001b[0m \u001b[0;34m=\u001b[0m \u001b[0mself\u001b[0m\u001b[0;34m.\u001b[0m\u001b[0mgateway_client\u001b[0m\u001b[0;34m.\u001b[0m\u001b[0msend_command\u001b[0m\u001b[0;34m(\u001b[0m\u001b[0mcommand\u001b[0m\u001b[0;34m)\u001b[0m\u001b[0;34m\u001b[0m\u001b[0;34m\u001b[0m\u001b[0m\n\u001b[0;32m-> 1322\u001b[0;31m         return_value = get_return_value(\n\u001b[0m\u001b[1;32m   1323\u001b[0m             answer, self.gateway_client, self.target_id, self.name)\n\u001b[1;32m   1324\u001b[0m \u001b[0;34m\u001b[0m\u001b[0m\n",
      "\u001b[0;32m/usr/local/lib/python3.10/dist-packages/pyspark/errors/exceptions/captured.py\u001b[0m in \u001b[0;36mdeco\u001b[0;34m(*a, **kw)\u001b[0m\n\u001b[1;32m    177\u001b[0m     \u001b[0;32mdef\u001b[0m \u001b[0mdeco\u001b[0m\u001b[0;34m(\u001b[0m\u001b[0;34m*\u001b[0m\u001b[0ma\u001b[0m\u001b[0;34m:\u001b[0m \u001b[0mAny\u001b[0m\u001b[0;34m,\u001b[0m \u001b[0;34m**\u001b[0m\u001b[0mkw\u001b[0m\u001b[0;34m:\u001b[0m \u001b[0mAny\u001b[0m\u001b[0;34m)\u001b[0m \u001b[0;34m->\u001b[0m \u001b[0mAny\u001b[0m\u001b[0;34m:\u001b[0m\u001b[0;34m\u001b[0m\u001b[0;34m\u001b[0m\u001b[0m\n\u001b[1;32m    178\u001b[0m         \u001b[0;32mtry\u001b[0m\u001b[0;34m:\u001b[0m\u001b[0;34m\u001b[0m\u001b[0;34m\u001b[0m\u001b[0m\n\u001b[0;32m--> 179\u001b[0;31m             \u001b[0;32mreturn\u001b[0m \u001b[0mf\u001b[0m\u001b[0;34m(\u001b[0m\u001b[0;34m*\u001b[0m\u001b[0ma\u001b[0m\u001b[0;34m,\u001b[0m \u001b[0;34m**\u001b[0m\u001b[0mkw\u001b[0m\u001b[0;34m)\u001b[0m\u001b[0;34m\u001b[0m\u001b[0;34m\u001b[0m\u001b[0m\n\u001b[0m\u001b[1;32m    180\u001b[0m         \u001b[0;32mexcept\u001b[0m \u001b[0mPy4JJavaError\u001b[0m \u001b[0;32mas\u001b[0m \u001b[0me\u001b[0m\u001b[0;34m:\u001b[0m\u001b[0;34m\u001b[0m\u001b[0;34m\u001b[0m\u001b[0m\n\u001b[1;32m    181\u001b[0m             \u001b[0mconverted\u001b[0m \u001b[0;34m=\u001b[0m \u001b[0mconvert_exception\u001b[0m\u001b[0;34m(\u001b[0m\u001b[0me\u001b[0m\u001b[0;34m.\u001b[0m\u001b[0mjava_exception\u001b[0m\u001b[0;34m)\u001b[0m\u001b[0;34m\u001b[0m\u001b[0;34m\u001b[0m\u001b[0m\n",
      "\u001b[0;32m/usr/local/lib/python3.10/dist-packages/py4j/protocol.py\u001b[0m in \u001b[0;36mget_return_value\u001b[0;34m(answer, gateway_client, target_id, name)\u001b[0m\n\u001b[1;32m    324\u001b[0m             \u001b[0mvalue\u001b[0m \u001b[0;34m=\u001b[0m \u001b[0mOUTPUT_CONVERTER\u001b[0m\u001b[0;34m[\u001b[0m\u001b[0mtype\u001b[0m\u001b[0;34m]\u001b[0m\u001b[0;34m(\u001b[0m\u001b[0manswer\u001b[0m\u001b[0;34m[\u001b[0m\u001b[0;36m2\u001b[0m\u001b[0;34m:\u001b[0m\u001b[0;34m]\u001b[0m\u001b[0;34m,\u001b[0m \u001b[0mgateway_client\u001b[0m\u001b[0;34m)\u001b[0m\u001b[0;34m\u001b[0m\u001b[0;34m\u001b[0m\u001b[0m\n\u001b[1;32m    325\u001b[0m             \u001b[0;32mif\u001b[0m \u001b[0manswer\u001b[0m\u001b[0;34m[\u001b[0m\u001b[0;36m1\u001b[0m\u001b[0;34m]\u001b[0m \u001b[0;34m==\u001b[0m \u001b[0mREFERENCE_TYPE\u001b[0m\u001b[0;34m:\u001b[0m\u001b[0;34m\u001b[0m\u001b[0;34m\u001b[0m\u001b[0m\n\u001b[0;32m--> 326\u001b[0;31m                 raise Py4JJavaError(\n\u001b[0m\u001b[1;32m    327\u001b[0m                     \u001b[0;34m\"An error occurred while calling {0}{1}{2}.\\n\"\u001b[0m\u001b[0;34m.\u001b[0m\u001b[0;34m\u001b[0m\u001b[0;34m\u001b[0m\u001b[0m\n\u001b[1;32m    328\u001b[0m                     format(target_id, \".\", name), value)\n",
      "\u001b[0;31mPy4JJavaError\u001b[0m: An error occurred while calling o13604.fit.\n: org.apache.spark.SparkException: Job aborted due to stage failure: Task 0 in stage 4826.0 failed 1 times, most recent failure: Lost task 0.0 in stage 4826.0 (TID 4806) (7d77ec566261 executor driver): java.lang.RuntimeException: Labels MUST be in {0, 1}, but got 20.0\n\tat org.apache.spark.sql.catalyst.expressions.GeneratedClass$GeneratedIteratorForCodegenStage1.project_doConsume_0$(Unknown Source)\n\tat org.apache.spark.sql.catalyst.expressions.GeneratedClass$GeneratedIteratorForCodegenStage1.processNext(Unknown Source)\n\tat org.apache.spark.sql.execution.BufferedRowIterator.hasNext(BufferedRowIterator.java:43)\n\tat org.apache.spark.sql.execution.WholeStageCodegenEvaluatorFactory$WholeStageCodegenPartitionEvaluator$$anon$1.hasNext(WholeStageCodegenEvaluatorFactory.scala:43)\n\tat scala.collection.Iterator$$anon$10.hasNext(Iterator.scala:460)\n\tat scala.collection.Iterator$$anon$10.hasNext(Iterator.scala:460)\n\tat scala.collection.Iterator$$anon$10.hasNext(Iterator.scala:460)\n\tat scala.collection.Iterator.foreach(Iterator.scala:943)\n\tat scala.collection.Iterator.foreach$(Iterator.scala:943)\n\tat scala.collection.AbstractIterator.foreach(Iterator.scala:1431)\n\tat scala.collection.TraversableOnce.foldLeft(TraversableOnce.scala:199)\n\tat scala.collection.TraversableOnce.foldLeft$(TraversableOnce.scala:192)\n\tat scala.collection.AbstractIterator.foldLeft(Iterator.scala:1431)\n\tat scala.collection.TraversableOnce.aggregate(TraversableOnce.scala:260)\n\tat scala.collection.TraversableOnce.aggregate$(TraversableOnce.scala:260)\n\tat scala.collection.AbstractIterator.aggregate(Iterator.scala:1431)\n\tat org.apache.spark.rdd.RDD.$anonfun$treeAggregate$4(RDD.scala:1261)\n\tat org.apache.spark.rdd.RDD.$anonfun$treeAggregate$6(RDD.scala:1262)\n\tat org.apache.spark.rdd.RDD.$anonfun$mapPartitions$2(RDD.scala:855)\n\tat org.apache.spark.rdd.RDD.$anonfun$mapPartitions$2$adapted(RDD.scala:855)\n\tat org.apache.spark.rdd.MapPartitionsRDD.compute(MapPartitionsRDD.scala:52)\n\tat org.apache.spark.rdd.RDD.computeOrReadCheckpoint(RDD.scala:364)\n\tat org.apache.spark.rdd.RDD.iterator(RDD.scala:328)\n\tat org.apache.spark.scheduler.ResultTask.runTask(ResultTask.scala:93)\n\tat org.apache.spark.TaskContext.runTaskWithListeners(TaskContext.scala:161)\n\tat org.apache.spark.scheduler.Task.run(Task.scala:141)\n\tat org.apache.spark.executor.Executor$TaskRunner.$anonfun$run$4(Executor.scala:620)\n\tat org.apache.spark.util.SparkErrorUtils.tryWithSafeFinally(SparkErrorUtils.scala:64)\n\tat org.apache.spark.util.SparkErrorUtils.tryWithSafeFinally$(SparkErrorUtils.scala:61)\n\tat org.apache.spark.util.Utils$.tryWithSafeFinally(Utils.scala:94)\n\tat org.apache.spark.executor.Executor$TaskRunner.run(Executor.scala:623)\n\tat java.base/java.util.concurrent.ThreadPoolExecutor.runWorker(ThreadPoolExecutor.java:1128)\n\tat java.base/java.util.concurrent.ThreadPoolExecutor$Worker.run(ThreadPoolExecutor.java:628)\n\tat java.base/java.lang.Thread.run(Thread.java:829)\n\nDriver stacktrace:\n\tat org.apache.spark.scheduler.DAGScheduler.failJobAndIndependentStages(DAGScheduler.scala:2844)\n\tat org.apache.spark.scheduler.DAGScheduler.$anonfun$abortStage$2(DAGScheduler.scala:2780)\n\tat org.apache.spark.scheduler.DAGScheduler.$anonfun$abortStage$2$adapted(DAGScheduler.scala:2779)\n\tat scala.collection.mutable.ResizableArray.foreach(ResizableArray.scala:62)\n\tat scala.collection.mutable.ResizableArray.foreach$(ResizableArray.scala:55)\n\tat scala.collection.mutable.ArrayBuffer.foreach(ArrayBuffer.scala:49)\n\tat org.apache.spark.scheduler.DAGScheduler.abortStage(DAGScheduler.scala:2779)\n\tat org.apache.spark.scheduler.DAGScheduler.$anonfun$handleTaskSetFailed$1(DAGScheduler.scala:1242)\n\tat org.apache.spark.scheduler.DAGScheduler.$anonfun$handleTaskSetFailed$1$adapted(DAGScheduler.scala:1242)\n\tat scala.Option.foreach(Option.scala:407)\n\tat org.apache.spark.scheduler.DAGScheduler.handleTaskSetFailed(DAGScheduler.scala:1242)\n\tat org.apache.spark.scheduler.DAGSchedulerEventProcessLoop.doOnReceive(DAGScheduler.scala:3048)\n\tat org.apache.spark.scheduler.DAGSchedulerEventProcessLoop.onReceive(DAGScheduler.scala:2982)\n\tat org.apache.spark.scheduler.DAGSchedulerEventProcessLoop.onReceive(DAGScheduler.scala:2971)\n\tat org.apache.spark.util.EventLoop$$anon$1.run(EventLoop.scala:49)\n\tat org.apache.spark.scheduler.DAGScheduler.runJob(DAGScheduler.scala:984)\n\tat org.apache.spark.SparkContext.runJob(SparkContext.scala:2398)\n\tat org.apache.spark.SparkContext.runJob(SparkContext.scala:2493)\n\tat org.apache.spark.rdd.RDD.$anonfun$fold$1(RDD.scala:1199)\n\tat org.apache.spark.rdd.RDDOperationScope$.withScope(RDDOperationScope.scala:151)\n\tat org.apache.spark.rdd.RDDOperationScope$.withScope(RDDOperationScope.scala:112)\n\tat org.apache.spark.rdd.RDD.withScope(RDD.scala:407)\n\tat org.apache.spark.rdd.RDD.fold(RDD.scala:1193)\n\tat org.apache.spark.rdd.RDD.$anonfun$treeAggregate$2(RDD.scala:1286)\n\tat org.apache.spark.rdd.RDDOperationScope$.withScope(RDDOperationScope.scala:151)\n\tat org.apache.spark.rdd.RDDOperationScope$.withScope(RDDOperationScope.scala:112)\n\tat org.apache.spark.rdd.RDD.withScope(RDD.scala:407)\n\tat org.apache.spark.rdd.RDD.treeAggregate(RDD.scala:1253)\n\tat org.apache.spark.rdd.RDD.$anonfun$treeAggregate$1(RDD.scala:1239)\n\tat org.apache.spark.rdd.RDDOperationScope$.withScope(RDDOperationScope.scala:151)\n\tat org.apache.spark.rdd.RDDOperationScope$.withScope(RDDOperationScope.scala:112)\n\tat org.apache.spark.rdd.RDD.withScope(RDD.scala:407)\n\tat org.apache.spark.rdd.RDD.treeAggregate(RDD.scala:1239)\n\tat org.apache.spark.ml.stat.Summarizer$.getClassificationSummarizers(Summarizer.scala:233)\n\tat org.apache.spark.ml.classification.LinearSVC.$anonfun$train$1(LinearSVC.scala:192)\n\tat org.apache.spark.ml.util.Instrumentation$.$anonfun$instrumented$1(Instrumentation.scala:191)\n\tat scala.util.Try$.apply(Try.scala:213)\n\tat org.apache.spark.ml.util.Instrumentation$.instrumented(Instrumentation.scala:191)\n\tat org.apache.spark.ml.classification.LinearSVC.train(LinearSVC.scala:172)\n\tat org.apache.spark.ml.classification.LinearSVC.train(LinearSVC.scala:77)\n\tat org.apache.spark.ml.Predictor.fit(Predictor.scala:114)\n\tat jdk.internal.reflect.GeneratedMethodAccessor166.invoke(Unknown Source)\n\tat java.base/jdk.internal.reflect.DelegatingMethodAccessorImpl.invoke(DelegatingMethodAccessorImpl.java:43)\n\tat java.base/java.lang.reflect.Method.invoke(Method.java:566)\n\tat py4j.reflection.MethodInvoker.invoke(MethodInvoker.java:244)\n\tat py4j.reflection.ReflectionEngine.invoke(ReflectionEngine.java:374)\n\tat py4j.Gateway.invoke(Gateway.java:282)\n\tat py4j.commands.AbstractCommand.invokeMethod(AbstractCommand.java:132)\n\tat py4j.commands.CallCommand.execute(CallCommand.java:79)\n\tat py4j.ClientServerConnection.waitForCommands(ClientServerConnection.java:182)\n\tat py4j.ClientServerConnection.run(ClientServerConnection.java:106)\n\tat java.base/java.lang.Thread.run(Thread.java:829)\nCaused by: java.lang.RuntimeException: Labels MUST be in {0, 1}, but got 20.0\n\tat org.apache.spark.sql.catalyst.expressions.GeneratedClass$GeneratedIteratorForCodegenStage1.project_doConsume_0$(Unknown Source)\n\tat org.apache.spark.sql.catalyst.expressions.GeneratedClass$GeneratedIteratorForCodegenStage1.processNext(Unknown Source)\n\tat org.apache.spark.sql.execution.BufferedRowIterator.hasNext(BufferedRowIterator.java:43)\n\tat org.apache.spark.sql.execution.WholeStageCodegenEvaluatorFactory$WholeStageCodegenPartitionEvaluator$$anon$1.hasNext(WholeStageCodegenEvaluatorFactory.scala:43)\n\tat scala.collection.Iterator$$anon$10.hasNext(Iterator.scala:460)\n\tat scala.collection.Iterator$$anon$10.hasNext(Iterator.scala:460)\n\tat scala.collection.Iterator$$anon$10.hasNext(Iterator.scala:460)\n\tat scala.collection.Iterator.foreach(Iterator.scala:943)\n\tat scala.collection.Iterator.foreach$(Iterator.scala:943)\n\tat scala.collection.AbstractIterator.foreach(Iterator.scala:1431)\n\tat scala.collection.TraversableOnce.foldLeft(TraversableOnce.scala:199)\n\tat scala.collection.TraversableOnce.foldLeft$(TraversableOnce.scala:192)\n\tat scala.collection.AbstractIterator.foldLeft(Iterator.scala:1431)\n\tat scala.collection.TraversableOnce.aggregate(TraversableOnce.scala:260)\n\tat scala.collection.TraversableOnce.aggregate$(TraversableOnce.scala:260)\n\tat scala.collection.AbstractIterator.aggregate(Iterator.scala:1431)\n\tat org.apache.spark.rdd.RDD.$anonfun$treeAggregate$4(RDD.scala:1261)\n\tat org.apache.spark.rdd.RDD.$anonfun$treeAggregate$6(RDD.scala:1262)\n\tat org.apache.spark.rdd.RDD.$anonfun$mapPartitions$2(RDD.scala:855)\n\tat org.apache.spark.rdd.RDD.$anonfun$mapPartitions$2$adapted(RDD.scala:855)\n\tat org.apache.spark.rdd.MapPartitionsRDD.compute(MapPartitionsRDD.scala:52)\n\tat org.apache.spark.rdd.RDD.computeOrReadCheckpoint(RDD.scala:364)\n\tat org.apache.spark.rdd.RDD.iterator(RDD.scala:328)\n\tat org.apache.spark.scheduler.ResultTask.runTask(ResultTask.scala:93)\n\tat org.apache.spark.TaskContext.runTaskWithListeners(TaskContext.scala:161)\n\tat org.apache.spark.scheduler.Task.run(Task.scala:141)\n\tat org.apache.spark.executor.Executor$TaskRunner.$anonfun$run$4(Executor.scala:620)\n\tat org.apache.spark.util.SparkErrorUtils.tryWithSafeFinally(SparkErrorUtils.scala:64)\n\tat org.apache.spark.util.SparkErrorUtils.tryWithSafeFinally$(SparkErrorUtils.scala:61)\n\tat org.apache.spark.util.Utils$.tryWithSafeFinally(Utils.scala:94)\n\tat org.apache.spark.executor.Executor$TaskRunner.run(Executor.scala:623)\n\tat java.base/java.util.concurrent.ThreadPoolExecutor.runWorker(ThreadPoolExecutor.java:1128)\n\tat java.base/java.util.concurrent.ThreadPoolExecutor$Worker.run(ThreadPoolExecutor.java:628)\n\t... 1 more\n"
     ]
    }
   ],
   "source": [
    "from pyspark.ml.feature import VectorAssembler, StringIndexer\n",
    "from pyspark.ml.classification import LinearSVC\n",
    "from pyspark.ml import Pipeline\n",
    "from pyspark.ml.evaluation import MulticlassClassificationEvaluator\n",
    "\n",
    "# Assuming you have a label column named 'Primary Type_encoded'\n",
    "label_col = 'Primary Type_encoded'\n",
    "\n",
    "# Check for null values\n",
    "df2.select(*feature_cols, label_col).na.drop().count()\n",
    "\n",
    "# Create a feature vector\n",
    "assembler = VectorAssembler(inputCols=feature_cols, outputCol=\"oplinsvc\", handleInvalid=\"skip\")\n",
    "df2 = assembler.transform(df2)\n",
    "\n",
    "# Split the data into training and testing sets\n",
    "(train_data, test_data) = df2.randomSplit([0.8, 0.2], seed=42)\n",
    "\n",
    "# Create a LinearSVC model\n",
    "lsvc = LinearSVC(maxIter=10, regParam=0.1, labelCol=label_col, featuresCol='oplinsvc')\n",
    "\n",
    "# Train the model\n",
    "model = lsvc.fit(train_data)\n",
    "\n",
    "# Make predictions\n",
    "predictions = model.transform(test_data)\n",
    "\n",
    "# Evaluate the model\n",
    "evaluator = MulticlassClassificationEvaluator(labelCol=label_col, predictionCol=\"prediction\", metricName=\"accuracy\")\n",
    "accuracy = evaluator.evaluate(predictions)\n",
    "\n",
    "# Print the results\n",
    "print(f'Accuracy: {accuracy:.4f}')\n"
   ]
  },
  {
   "cell_type": "code",
   "execution_count": 23,
   "metadata": {
    "colab": {
     "base_uri": "https://localhost:8080/"
    },
    "id": "3fBqkW_yInNJ",
    "outputId": "bdabc899-78d1-45c3-a308-935c8524d496"
   },
   "outputs": [
    {
     "name": "stdout",
     "output_type": "stream",
     "text": [
      "Accuracy: 0.8797101449275362\n",
      "+------+----------+-----+\n",
      "|Arrest|prediction|count|\n",
      "+------+----------+-----+\n",
      "|  true|       1.0|   48|\n",
      "|  true|       0.0|   67|\n",
      "| false|       1.0|   16|\n",
      "| false|       0.0|  559|\n",
      "+------+----------+-----+\n",
      "\n"
     ]
    }
   ],
   "source": [
    "###GBTClassifier\n",
    "\n",
    "from pyspark.ml import Pipeline\n",
    "from pyspark.ml.feature import VectorAssembler, StringIndexer\n",
    "from pyspark.ml.classification import GBTClassifier\n",
    "from pyspark.ml.evaluation import MulticlassClassificationEvaluator\n",
    "\n",
    "# Assuming you have loaded your dataset into the DataFrame df2\n",
    "\n",
    "# Assemble features\n",
    "feature_cols = ['Primary Type_encoded', 'Description_encoded', 'Domestic_encoded', 'FBI Code_encoded', 'Year_encoded']\n",
    "assembler = VectorAssembler(inputCols=feature_cols, outputCol='features5')\n",
    "\n",
    "# Convert the 'Arrest' column to a numeric type\n",
    "label_indexer = StringIndexer(inputCol='Arrest', outputCol='label_arrest')  # Choose a different name\n",
    "\n",
    "# Create GBT classifier with an increased maxBins value\n",
    "gbt = GBTClassifier(labelCol='label_arrest', featuresCol='features5', maxBins=512, maxIter=10)  # Adjust maxBins value\n",
    "\n",
    "# Create pipeline\n",
    "pipeline = Pipeline(stages=[assembler, label_indexer, gbt])\n",
    "\n",
    "# Split the data into training and testing sets\n",
    "train_data, test_data = df2.randomSplit([0.8, 0.2], seed=42)\n",
    "\n",
    "# Fit the model\n",
    "model = pipeline.fit(train_data)\n",
    "\n",
    "# Make predictions on the test data\n",
    "predictions = model.transform(test_data)\n",
    "\n",
    "# Evaluate the model\n",
    "evaluator = MulticlassClassificationEvaluator(labelCol='label_arrest', predictionCol='prediction', metricName='accuracy')\n",
    "accuracy = evaluator.evaluate(predictions)\n",
    "print(f'Accuracy: {accuracy}')\n",
    "\n",
    "# Show confusion matrix\n",
    "conf_matrix = predictions.groupBy('Arrest', 'prediction').count()\n",
    "conf_matrix.show()\n"
   ]
  },
  {
   "cell_type": "code",
   "execution_count": null,
   "metadata": {
    "id": "QOGK2YSSIGph"
   },
   "outputs": [],
   "source": []
  }
 ],
 "metadata": {
  "colab": {
   "provenance": []
  },
  "kernelspec": {
   "display_name": "Python 3 (ipykernel)",
   "language": "python",
   "name": "python3"
  },
  "language_info": {
   "codemirror_mode": {
    "name": "ipython",
    "version": 3
   },
   "file_extension": ".py",
   "mimetype": "text/x-python",
   "name": "python",
   "nbconvert_exporter": "python",
   "pygments_lexer": "ipython3",
   "version": "3.10.9"
  }
 },
 "nbformat": 4,
 "nbformat_minor": 1
}
